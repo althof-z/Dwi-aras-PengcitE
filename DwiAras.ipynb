{
 "cells": [
  {
   "cell_type": "code",
   "execution_count": 5,
   "id": "71e2fc2a",
   "metadata": {},
   "outputs": [],
   "source": [
    "import cv2 as cv\n",
    "import numpy as np\n",
    "import matplotlib.pyplot as plt"
   ]
  },
  {
   "cell_type": "markdown",
   "id": "04725910",
   "metadata": {},
   "source": [
    "# Pengambangan Dwi Aras"
   ]
  },
  {
   "cell_type": "code",
   "execution_count": 6,
   "id": "ef993114",
   "metadata": {},
   "outputs": [],
   "source": [
    "daun = cv.imread(\"img/daun.jpg\", 0)\n",
    "tinggi, lebar = daun.shape"
   ]
  },
  {
   "cell_type": "code",
   "execution_count": 7,
   "id": "5102d73e",
   "metadata": {},
   "outputs": [],
   "source": [
    "cv.imshow(\"gambar asli\", daun)\n",
    "cv.waitKey(0)\n",
    "cv.destroyAllWindows()"
   ]
  },
  {
   "cell_type": "markdown",
   "id": "cef41c34",
   "metadata": {},
   "source": [
    "## Memperkirakan Nilai Ambang"
   ]
  },
  {
   "cell_type": "code",
   "execution_count": 19,
   "id": "1085eddc",
   "metadata": {},
   "outputs": [],
   "source": [
    "nilai_ambang = 120\n",
    "#nilai_ambang diatas adalah untuk menentukan apakah pixel tersebut akan menjadi putih atau hitam\n",
    "daun_hasil = daun.copy()\n",
    "for x in range(tinggi):\n",
    "    for y in range(lebar):\n",
    "        if daun[x,y] < nilai_ambang:\n",
    "            daun_hasil[x,y] = 0\n",
    "        else:\n",
    "            daun_hasil[x,y] = 255\n",
    "            "
   ]
  },
  {
   "cell_type": "code",
   "execution_count": 13,
   "id": "c7881616",
   "metadata": {},
   "outputs": [],
   "source": [
    "cv.imshow(\"Gambar perkiraan Dwi Aras\", daun_hasil)\n",
    "cv.waitKey(0)\n",
    "cv.destroyAllWindows()"
   ]
  },
  {
   "cell_type": "markdown",
   "id": "dadc0c16",
   "metadata": {},
   "source": [
    "### Pencarian Nilai Ambang"
   ]
  },
  {
   "cell_type": "code",
   "execution_count": 10,
   "id": "42e2fa64",
   "metadata": {},
   "outputs": [],
   "source": [
    "def titeratif(image):\n",
    "    tinggi, lebar = image.shape\n",
    "    t0 = 127\n",
    "    while(True):\n",
    "        rata_kiri = 0\n",
    "        rata_kanan = 0\n",
    "        jum_kiri = 0\n",
    "        jum_kanan = 0\n",
    "        for x in range(tinggi):\n",
    "            for y in range(lebar):\n",
    "                if(image[x,y] <= 127):\n",
    "                    rata_kiri = rata_kiri + image[x,y]\n",
    "                    jum_kiri = jum_kiri + 1\n",
    "                else:\n",
    "                    rata_kanan = rata_kanan + image[x,y]\n",
    "                    jum_kanan = jum_kanan + 1\n",
    "        rata_kiri = rata_kiri/jum_kiri\n",
    "        rata_kanan = rata_kanan/jum_kanan\n",
    "        t1 = (rata_kiri + rata_kanan)/2\n",
    "        if((t0-t1) < 1):\n",
    "            break\n",
    "        t0 = t1\n",
    "        \n",
    "    return round(t1)"
   ]
  },
  {
   "cell_type": "code",
   "execution_count": 11,
   "id": "56e2dec0",
   "metadata": {},
   "outputs": [
    {
     "data": {
      "text/plain": [
       "131"
      ]
     },
     "execution_count": 11,
     "metadata": {},
     "output_type": "execute_result"
    }
   ],
   "source": [
    "titeratif(daun)"
   ]
  },
  {
   "cell_type": "code",
   "execution_count": 63,
   "id": "ec3ebda1",
   "metadata": {},
   "outputs": [],
   "source": [
    "bentukJamak = cv2.imread(\"img/segi.jpg\", 0)\n",
    "tinggi, lebar = bentukJamak.shape"
   ]
  },
  {
   "cell_type": "code",
   "execution_count": 64,
   "id": "6c99df58",
   "metadata": {},
   "outputs": [],
   "source": [
    "def arasjamak(image, t1, t2):\n",
    "    res = image \n",
    "    m,n = image.shape\n",
    "    for x in range (m):\n",
    "        for y in range (n):\n",
    "            if (image[x,y] <= t1) or (image[x,y] >= t2):\n",
    "                res[x,y] = 0\n",
    "            else:\n",
    "                res[x,y] = 255\n",
    "    return res"
   ]
  },
  {
   "cell_type": "code",
   "execution_count": 65,
   "id": "9cb475a7",
   "metadata": {},
   "outputs": [],
   "source": [
    "bentukArasJamak = arasjamak(bentukJamak, 185, 200)\n",
    "\n",
    "cv.imshow(\"Gambar perkiraan Dwi Aras\", bentukArasJamak)\n",
    "cv.waitKey(0)\n",
    "cv.destroyAllWindows()"
   ]
  },
  {
   "cell_type": "markdown",
   "id": "d742fea1",
   "metadata": {},
   "source": [
    "## RGB to CYMK"
   ]
  },
  {
   "cell_type": "code",
   "execution_count": 69,
   "id": "81bb73c4",
   "metadata": {},
   "outputs": [],
   "source": [
    "RGB = cv.imread(\"img/cmykNrgb.jpg\")\n",
    "tinggi, lebar = RGB.shape[:2]\n",
    "\n",
    "cv.imshow(\"Gambar RGB\", RGB)\n",
    "cv.waitKey(0)\n",
    "cv.destroyAllWindows()"
   ]
  },
  {
   "cell_type": "code",
   "execution_count": 67,
   "id": "8ab38135",
   "metadata": {},
   "outputs": [
    {
     "name": "stdout",
     "output_type": "stream",
     "text": [
      "176 286\n"
     ]
    }
   ],
   "source": [
    "print(tinggi, lebar)"
   ]
  },
  {
   "cell_type": "code",
   "execution_count": 76,
   "id": "49f5941b",
   "metadata": {},
   "outputs": [],
   "source": [
    "img_cmyk = np.zeros((tinggi, lebar, 4))\n",
    "u = 0.5\n",
    "B = 1\n",
    "\n",
    "for i in np.arange(tinggi):\n",
    "    for j in np.arange(lebar):\n",
    "        r,g,b = RGB[i][j]/255\n",
    "        kb = min(1-r, 1-g, 1-b)\n",
    "        \n",
    "        if kb == 1:\n",
    "            C = 0\n",
    "            M = 0\n",
    "            Y = 0\n",
    "            \n",
    "        else:\n",
    "            C = (1-r-u*kb)\n",
    "            M = (1-g-u*kb)\n",
    "            Y = (1-b-u*kb)\n",
    "            K = B*kb\n",
    "        \n",
    "        C = int(C * 255)\n",
    "        M = int(M * 255)\n",
    "        Y = int(Y * 255)\n",
    "        K = int(K * 255)\n",
    "        \n",
    "        img_cmyk[i][j] = C,M,Y,K"
   ]
  },
  {
   "cell_type": "code",
   "execution_count": 77,
   "id": "a4627052",
   "metadata": {},
   "outputs": [],
   "source": [
    "cv.imshow(\"gambar cmyk\", img_cmyk)\n",
    "cv.waitKey(0)\n",
    "cv.destroyAllWindows()"
   ]
  },
  {
   "cell_type": "markdown",
   "id": "a11cce7a",
   "metadata": {},
   "source": [
    "## Konversi RGB to YIQ"
   ]
  },
  {
   "cell_type": "code",
   "execution_count": 78,
   "id": "cb1fd99d",
   "metadata": {},
   "outputs": [],
   "source": [
    "img_yiq = np.zeros((tinggi,lebar,3))"
   ]
  },
  {
   "cell_type": "code",
   "execution_count": null,
   "id": "84d5fb8d",
   "metadata": {},
   "outputs": [],
   "source": [
    "for i in np.arange(tinggi):\n",
    "    for j in np.arange(lebar):\n",
    "        r,g,b = RGB[i][j]/255\n",
    "        Y = 0.299*r * "
   ]
  }
 ],
 "metadata": {
  "kernelspec": {
   "display_name": "Python 3 (ipykernel)",
   "language": "python",
   "name": "python3"
  },
  "language_info": {
   "codemirror_mode": {
    "name": "ipython",
    "version": 3
   },
   "file_extension": ".py",
   "mimetype": "text/x-python",
   "name": "python",
   "nbconvert_exporter": "python",
   "pygments_lexer": "ipython3",
   "version": "3.9.13"
  }
 },
 "nbformat": 4,
 "nbformat_minor": 5
}
